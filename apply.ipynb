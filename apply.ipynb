{
 "cells": [
  {
   "cell_type": "code",
   "execution_count": 1,
   "id": "74f571dd",
   "metadata": {},
   "outputs": [],
   "source": [
    "import os\n",
    "from skimage.io import imread\n",
    "from glob import glob\n",
    "\n",
    "from runner import runner, runner_v2\n",
    "from commons import crop_image_reduce_errors, build_volume_from_directory\n",
    "from segmentation_001 import segmentation_mask as segmentation_mask_001\n",
    "from segmentation_002 import (\n",
    "    segmentation_mask_v2 as segmentation_mask_002_v2,\n",
    "    segmentation_mask as segmentation_mask_002\n",
    ")"
   ]
  },
  {
   "cell_type": "code",
   "execution_count": 2,
   "id": "069717bf",
   "metadata": {},
   "outputs": [],
   "source": [
    "# path_out_images = 'dataset_result'\n",
    "\n",
    "# try:\n",
    "#     os.makedirs(path_out_images)\n",
    "# except Exception:\n",
    "#     print('Pasta dataset principal já existem!')\n",
    "\n",
    "\n",
    "# background = crop_image_reduce_errors(\n",
    "#     imread('background.tif')[:, :, 0]\n",
    "# )\n",
    "\n",
    "# for index in glob('dataset/images/*'):\n",
    "\n",
    "#     *_, image_name = index.split('/')\n",
    "\n",
    "#     images = build_volume_from_directory(index)\n",
    "\n",
    "#     runner(arr_images=images,\n",
    "#            bg_image=background,\n",
    "#            path_out_images=path_out_images,\n",
    "#            image_name=image_name,\n",
    "#            crop_margin_pixel=80,\n",
    "#            fn_segmentation=segmentation_mask_002)"
   ]
  },
  {
   "cell_type": "markdown",
   "id": "659fa02c",
   "metadata": {},
   "source": [
    "## Rodando versão alternativa Segment_002"
   ]
  },
  {
   "cell_type": "code",
   "execution_count": 2,
   "id": "b67197fd",
   "metadata": {},
   "outputs": [
    {
     "name": "stderr",
     "output_type": "stream",
     "text": [
      "100%|██████████| 205/205 [01:56<00:00,  1.76it/s]\n",
      "  3%|▎         | 10/311 [00:05<02:35,  1.94it/s]/home/mpgxc/Área de Trabalho/Vision/segmentation_002.py:16: ConvergenceWarning: Number of distinct clusters (1) found smaller than n_clusters (2). Possibly due to duplicate points in X.\n",
      "  return KMeans(random_state=1,\n",
      "100%|██████████| 311/311 [02:35<00:00,  2.00it/s]\n",
      "100%|██████████| 129/129 [01:01<00:00,  2.10it/s]\n",
      "100%|██████████| 257/257 [02:04<00:00,  2.06it/s]\n"
     ]
    }
   ],
   "source": [
    "for index in glob('dataset/images/*'):\n",
    "\n",
    "    *_, image_name = index.split('/')\n",
    "    \n",
    "    runner_v2(bg_image_path='background.tif',\n",
    "              img_name=image_name,\n",
    "              path_out_folder='results_outs',\n",
    "              path_images_in_folder=index,\n",
    "              fn_segmentation=segmentation_mask_002_v2)"
   ]
  },
  {
   "cell_type": "code",
   "execution_count": null,
   "id": "e034b75b-0794-4279-9d65-42e6d789a9c9",
   "metadata": {},
   "outputs": [],
   "source": []
  }
 ],
 "metadata": {
  "interpreter": {
   "hash": "9f2acf2bf5f004b5e9b7644d1165873e2527270ed8200d98f0cc184b379b8357"
  },
  "kernelspec": {
   "display_name": "Python 3",
   "language": "python",
   "name": "python3"
  },
  "language_info": {
   "codemirror_mode": {
    "name": "ipython",
    "version": 3
   },
   "file_extension": ".py",
   "mimetype": "text/x-python",
   "name": "python",
   "nbconvert_exporter": "python",
   "pygments_lexer": "ipython3",
   "version": "3.8.8"
  }
 },
 "nbformat": 4,
 "nbformat_minor": 5
}
