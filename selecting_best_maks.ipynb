{
 "cells": [
  {
   "cell_type": "code",
   "execution_count": 442,
   "id": "3e678d85-36d4-48ba-8d89-994b1f5472a5",
   "metadata": {},
   "outputs": [],
   "source": [
    "import numpy as np\n",
    "from glob import glob\n",
    "from skimage.io import imread, imsave\n",
    "from matplotlib import pyplot as plt\n",
    "from skimage import measure, img_as_ubyte"
   ]
  },
  {
   "cell_type": "code",
   "execution_count": 443,
   "id": "797e8e26-447d-4add-bea5-73a254cb047b",
   "metadata": {},
   "outputs": [],
   "source": [
    "def build_volume_from_directory(path_folder, with_rgb=False):\n",
    "    \"\"\"\n",
    "        Ler todas as imagens do diretório e cria um bloco de imagens\n",
    "    \"\"\"\n",
    "    if with_rgb:\n",
    "        return np.asarray([\n",
    "            imread(img)\n",
    "            for img in glob(path_folder)\n",
    "        ])\n",
    "    \n",
    "    return np.asarray([\n",
    "        imread(img)[:, :, 0] \n",
    "        for img in glob(path_folder)\n",
    "    ])\n",
    "\n",
    "def plot_images(images, color='gray', names=[]):\n",
    " \n",
    "    \"\"\"\n",
    "        Função para plotar array de imagens, essa função não é perfeita mas serve bem...\n",
    "    \"\"\"\n",
    "    \n",
    "    if len(names) == 0:\n",
    "        names = [\"\"] * len(images)\n",
    "        \n",
    "    if len(images) == 1:\n",
    "        plt.figure(figsize=(10, 8))\n",
    "        plt.imshow(images[0], color)\n",
    "    \n",
    "        return plt.show()\n",
    "    \n",
    "    fig, ax = plt.subplots(1,\n",
    "                           len(images), \n",
    "                           figsize=(15, 20))\n",
    "\n",
    "    for index, arr in enumerate(images):        \n",
    "        ax[index].imshow(arr, cmap=color)\n",
    "        ax[index].set_title(names[index])\n",
    "            \n",
    "    plt.show()"
   ]
  },
  {
   "cell_type": "code",
   "execution_count": 444,
   "id": "fb7f7855-9e8d-4365-9a91-da4b650d8e7f",
   "metadata": {},
   "outputs": [],
   "source": [
    "images = build_volume_from_directory('masks_with_kmeans/*', with_rgb=True)"
   ]
  },
  {
   "cell_type": "markdown",
   "id": "06a48803-979b-4319-9a6e-82d7fd38a721",
   "metadata": {},
   "source": [
    "### Encontrando Area media das mascaras"
   ]
  },
  {
   "cell_type": "code",
   "execution_count": 445,
   "id": "9558c2bf-68b5-4a6a-aebc-aa5e3a18623d",
   "metadata": {},
   "outputs": [],
   "source": [
    "def average_area_images(images):\n",
    "    \n",
    "    images_regions = []\n",
    "    images_areas = []\n",
    "    \n",
    "    for image in images:\n",
    "        mask_label = measure.label(image)\n",
    "        images_regions.append(measure.regionprops(mask_label))\n",
    "        \n",
    "\n",
    "    for props in images_regions:\n",
    "        regions, *_ = props\n",
    "        images_areas.append(regions.area)\n",
    "        \n",
    "    return np.mean(images_areas)"
   ]
  },
  {
   "cell_type": "code",
   "execution_count": 446,
   "id": "6e687844-bd41-4f88-94b2-ee7e0ecbad2f",
   "metadata": {},
   "outputs": [
    {
     "data": {
      "text/plain": [
       "3075.153846153846"
      ]
     },
     "execution_count": 446,
     "metadata": {},
     "output_type": "execute_result"
    }
   ],
   "source": [
    "average_area_images(images)"
   ]
  },
  {
   "cell_type": "markdown",
   "id": "cdb807d2-6d79-4b46-9278-06994795ab2e",
   "metadata": {},
   "source": [
    "### Detectando colisão nas bordas"
   ]
  },
  {
   "cell_type": "code",
   "execution_count": 447,
   "id": "28b750b2-dae4-425e-9028-1ae5c690c617",
   "metadata": {},
   "outputs": [],
   "source": [
    "def build_test_image():\n",
    "\n",
    "    test = np.zeros((100, 100))\n",
    "\n",
    "    test[55:60,:60] = 5\n",
    "    test[65:70,:60] = 10\n",
    "    test[55:70,60:] = 20\n",
    "    test[:, 55:60] = 30\n",
    "    test[:55, 65:70] = 40\n",
    "    test[55:,55:70] = 50\n",
    "    \n",
    "    return test\n",
    "\n",
    "def check_colision_border(mask):\n",
    "    \n",
    "    x, *_ = mask.shape\n",
    "    \n",
    "    left = mask[:1,].flatten()\n",
    "    right = mask[x - 1: x,].flatten()\n",
    "    top = mask[:, : 1].flatten()\n",
    "    bottom = mask[:, x - 1: x].flatten()\n",
    "    \n",
    "    borders_flatten = [left, right, top, bottom]\n",
    "    if np.concatenate(borders_flatten).sum():\n",
    "        return True\n",
    "    \n",
    "    return False"
   ]
  },
  {
   "cell_type": "code",
   "execution_count": 448,
   "id": "eeca036a-a62e-4652-81b6-97ca10463bac",
   "metadata": {},
   "outputs": [
    {
     "data": {
      "image/png": "[encoded data removed]",
      "text/plain": [
       "<Figure size 1080x1440 with 2 Axes>"
      ]
     },
     "metadata": {
      "needs_background": "light"
     },
     "output_type": "display_data"
    }
   ],
   "source": [
    "test = build_test_image()\n",
    "plot_images([images[17], test])"
   ]
  },
  {
   "cell_type": "code",
   "execution_count": 449,
   "id": "f4d63035-7e82-436b-8798-6e8d6ef47af8",
   "metadata": {},
   "outputs": [
    {
     "data": {
      "text/plain": [
       "False"
      ]
     },
     "execution_count": 449,
     "metadata": {},
     "output_type": "execute_result"
    }
   ],
   "source": [
    "check_colision_border(images[17])"
   ]
  },
  {
   "cell_type": "code",
   "execution_count": 450,
   "id": "2764a91b-c6dd-4d96-b3d3-0b8b7227e64b",
   "metadata": {},
   "outputs": [
    {
     "data": {
      "text/plain": [
       "True"
      ]
     },
     "execution_count": 450,
     "metadata": {},
     "output_type": "execute_result"
    }
   ],
   "source": [
    "check_colision_border(test)"
   ]
  },
  {
   "cell_type": "code",
   "execution_count": 451,
   "id": "abd46f14-66be-43e2-81a0-7d675c707cc3",
   "metadata": {},
   "outputs": [],
   "source": [
    "avg_area = average_area_images(images)\n",
    "\n",
    "for index, frame in enumerate(images):\n",
    "    avg_frame = average_area_images(images[index:index + 1])\n",
    "    \n",
    "    if avg_frame < avg_area or check_colision_border(frame):\n",
    "        continue\n",
    "        \n",
    "    imsave(f'selected_images/{str(index)}.png', img_as_ubyte(frame))"
   ]
  },
  {
   "cell_type": "code",
   "execution_count": 1,
   "id": "fd329fe3-9167-442c-8063-3c375d25f266",
   "metadata": {},
   "outputs": [],
   "source": [
    "### testar: Média + Desvio Padrão"
   ]
  },
  {
   "cell_type": "code",
   "execution_count": null,
   "id": "48e742f6-1b9c-4c61-a614-023b6a7c1ea8",
   "metadata": {},
   "outputs": [],
   "source": []
  }
 ],
 "metadata": {
  "kernelspec": {
   "display_name": "Python 3",
   "language": "python",
   "name": "python3"
  },
  "language_info": {
   "codemirror_mode": {
    "name": "ipython",
    "version": 3
   },
   "file_extension": ".py",
   "mimetype": "text/x-python",
   "name": "python",
   "nbconvert_exporter": "python",
   "pygments_lexer": "ipython3",
   "version": "3.8.8"
  }
 },
 "nbformat": 4,
 "nbformat_minor": 5
}
